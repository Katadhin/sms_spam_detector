{
 "cells": [
  {
   "cell_type": "code",
   "execution_count": 1,
   "metadata": {},
   "outputs": [
    {
     "name": "stderr",
     "output_type": "stream",
     "text": [
      "/Users/katadhin1/anaconda3/lib/python3.11/site-packages/sklearn/svm/_classes.py:31: FutureWarning: The default value of `dual` will change from `True` to `'auto'` in 1.5. Set the value of `dual` explicitly to suppress the warning.\n",
      "  warnings.warn(\n"
     ]
    }
   ],
   "source": [
    "import pandas as pd\n",
    "from sklearn.model_selection import train_test_split\n",
    "from sklearn.pipeline import Pipeline\n",
    "from sklearn.feature_extraction.text import TfidfVectorizer\n",
    "from sklearn.svm import LinearSVC\n",
    "\n",
    "def sms_classification(df):\n",
    "    features = df['text_message']\n",
    "    target = df['label']\n",
    "    \n",
    "    X_train, X_test, y_train, y_test = train_test_split(features, target, test_size=0.33, random_state=42)\n",
    "    \n",
    "    pipeline = Pipeline([\n",
    "        ('tfidf', TfidfVectorizer()),\n",
    "        ('clf', LinearSVC())\n",
    "    ])\n",
    "    \n",
    "    model = pipeline.fit(X_train, y_train)\n",
    "    \n",
    "    return model\n",
    "\n",
    "sms_text_df = pd.read_csv('SMSSpamCollection.csv')\n",
    "text_clf = sms_classification(sms_text_df)\n",
    "\n"
   ]
  },
  {
   "cell_type": "code",
   "execution_count": 2,
   "metadata": {},
   "outputs": [],
   "source": [
    "def sms_prediction(text):\n",
    "    prediction = text_clf.predict([text])[0]\n",
    "    if prediction == 'ham':\n",
    "        return f'The text message: \"{text}\", is not spam.'\n",
    "    else:\n",
    "        return f'The text message: \"{text}\", is spam.'\n"
   ]
  },
  {
   "cell_type": "code",
   "execution_count": 5,
   "metadata": {},
   "outputs": [
    {
     "name": "stdout",
     "output_type": "stream",
     "text": [
      "Running on local URL:  http://127.0.0.1:7861\n",
      "Running on public URL: https://9a865c7ee4f6e802c5.gradio.live\n",
      "\n",
      "This share link expires in 72 hours. For free permanent hosting and GPU upgrades, run `gradio deploy` from Terminal to deploy to Spaces (https://huggingface.co/spaces)\n"
     ]
    },
    {
     "data": {
      "text/html": [
       "<div><iframe src=\"https://9a865c7ee4f6e802c5.gradio.live\" width=\"100%\" height=\"500\" allow=\"autoplay; camera; microphone; clipboard-read; clipboard-write;\" frameborder=\"0\" allowfullscreen></iframe></div>"
      ],
      "text/plain": [
       "<IPython.core.display.HTML object>"
      ]
     },
     "metadata": {},
     "output_type": "display_data"
    },
    {
     "data": {
      "text/plain": []
     },
     "execution_count": 5,
     "metadata": {},
     "output_type": "execute_result"
    }
   ],
   "source": [
    "import gradio as gr\n",
    "\n",
    "# Define the function to predict SMS classification\n",
    "def sms_prediction(text):\n",
    "    prediction = text_clf.predict([text])[0]\n",
    "    if prediction == 'ham':\n",
    "        return f'The text message: \"{text}\", is not spam.'\n",
    "    else:\n",
    "        return f'The text message: \"{text}\", is spam.'\n",
    "\n",
    "# Create the Gradio interface application\n",
    "gr.Interface(fn=sms_prediction, inputs=\"text\", outputs=\"text\", title=\"SMS Spam Detection\", description=\"Enter a text message to determine if it's spam or not.\").launch(share=True)\n",
    "\n"
   ]
  },
  {
   "cell_type": "code",
   "execution_count": 4,
   "metadata": {},
   "outputs": [
    {
     "name": "stdout",
     "output_type": "stream",
     "text": [
      "The text message: \"Congratulations! You've been selected as a winner. Text WON to 555 to claim your prize.\", is spam.\n",
      "Thank you for using the SMS Spam Detection model.\n"
     ]
    }
   ],
   "source": [
    "# Test the model\n",
    "# print(sms_prediction(\"Congratulations! You've been selected as a winner. Text WON to 555 to claim your prize.\")) # Expected: The text message: \"Congratulations! You've been selected as a winner. Text WON to 555 to claim your prize.\", is spam.\n",
    "# print(sms_prediction(\"Hello, how are you?\")) # Expected: The text message: \"Hello, how are you?\", is not spam.\n",
    "# print(sms_prediction(\"Get your free gift card now!\")) # Expected: The text message: \"Get your free gift card now!\", is spam.\n",
    "# print(sms_prediction(\"You have a job interview tomorrow.\")) # Expected: The text message: \"You have a job interview tomorrow.\", is not spam.\n",
    "# print(sms_prediction(\"You have a new message. Click here to view.\")) # Expected: The text message: \"You have a new message. Click here to view.\", is spam.\n",
    "# print(sms_prediction(\"You have a new message.\")) # Expected: The text message: \"You have a new message.\", is not spam.\n",
    "# print(sms_prediction(\"You have won a free trip to Hawaii!\")) # Expected: The text message: \"You have won a free trip to Hawaii!\", is spam.\n",
    "\n",
    "# iface.launch()\n",
    "\n",
    "# Create a loop to test the model\n",
    "while True:\n",
    "    text = input(\"Enter a text message: \")\n",
    "    print(sms_prediction(text))\n",
    "    response = input(\"Would you like to test another text message? (yes/no): \")\n",
    "    if response.lower() != 'yes':\n",
    "        break\n",
    "\n",
    "print(\"Thank you for using the SMS Spam Detection model.\")\n",
    "\n"
   ]
  },
  {
   "cell_type": "code",
   "execution_count": 6,
   "metadata": {},
   "outputs": [
    {
     "name": "stdout",
     "output_type": "stream",
     "text": [
      "The text message: \"You have won a free trip to Hawaii!\", is spam.\n",
      "Thank you for using the SMS Spam Detection model.\n"
     ]
    }
   ],
   "source": [
    "# Loop through test messages\n",
    "while True:\n",
    "    text = input(\"Enter a text message: \")\n",
    "    print(sms_prediction(text))\n",
    "    response = input(\"Would you like to test another text message? (yes/no): \")\n",
    "    if response.lower() != 'yes':\n",
    "        break\n",
    "\n",
    "print(\"Thank you for using the SMS Spam Detection model.\")\n",
    "\n"
   ]
  }
 ],
 "metadata": {
  "kernelspec": {
   "display_name": "base",
   "language": "python",
   "name": "python3"
  },
  "language_info": {
   "codemirror_mode": {
    "name": "ipython",
    "version": 3
   },
   "file_extension": ".py",
   "mimetype": "text/x-python",
   "name": "python",
   "nbconvert_exporter": "python",
   "pygments_lexer": "ipython3",
   "version": "3.11.8"
  }
 },
 "nbformat": 4,
 "nbformat_minor": 2
}
